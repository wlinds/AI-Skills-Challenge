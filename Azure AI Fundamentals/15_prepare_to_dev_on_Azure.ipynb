{
 "cells": [
  {
   "cell_type": "markdown",
   "metadata": {},
   "source": [
    "# Understand AI-related terms\n",
    "\n",
    "## Data science\n",
    "Data science is a discipline that focuses on the processing and analysis of data; applying statistical techniques to uncover and visualize relationships and patterns in the data, and defining experimental models that help explore those patterns.\n",
    "\n",
    "For example, a data scientist might gather samples of data about the population of an endangered species in a geographical area, and combine it with data about levels of industrialization and economic demographics in the same area. The data can then be analyzed, using statistical techniques to extrapolate from the samples to understand trends and relationships between human activities and wildlife, and test hypotheses using models that show the likely impact of human activity on the wildlife population. By doing so, the data scientists may help determine optimal policies that balance the need for economic wellbeing for the human population with the need for conservation of the endangered wildlife.\n",
    "\n",
    "## Machine learning\n",
    "Machine learning is a subset of data science that deals with the training and validation of predictive models. Typically, a data scientist prepares the data and then uses it to train a model based on an algorithm that exploits the relationships between the features in the data to predict values for unknown labels.\n",
    "\n",
    "For example, a data scientist might use the data they have collected to train a model that predicts the annual growth or decline in population of a species based on factors such as the number of nesting sites observed, the area of land designated as protected, the human population in the local area, the daily volume of traffic on local roads, and so on. This predictive model can then be used as a tool to evaluate plans for housing, infrastructure, and industrial development in the local area and assess their likely impact on the local wildlife.\n",
    "\n",
    "## Artificial intelligence\n",
    "Artificial intelligence usually (but not always) builds on machine learning to create software that emulates one or more characteristics of human intelligence.\n",
    "\n",
    "For example, balancing the need for wildlife conservation against economic development requires accurate monitoring of the population of the endangered species being protected. It may not be feasible to rely on human experts who can positively identify the animal in question, or to monitor a large area over a sufficient period of time to get an accurate count. Indeed, the presence of human observers may deter animals and prevent their detection. In this case, a predictive model could be trained to analyze image data taken by motion-activated cameras in remote locations, and predict whether a photograph contains a sighting of the animal. The model could then be used in a software application that responds to automated identification of animals to track animal sightings across a large geographical area, identifying areas with dense animal populations that may be candidates for protected status."
   ]
  },
  {
   "cell_type": "markdown",
   "metadata": {},
   "source": [
    "# Understand considerations for AI Engineers\n",
    "ncreasingly, software solutions include AI features; so software engineers need to know how to integrate AI capabilities into their applications and services.\n",
    "\n",
    "The advances made in machine learning, together with the increased availability of large volumes of data and powerful compute on which to process it and train predictive models, has led to the availability of prepackaged software services that encapsulate AI capabilities. Software engineers can take advantage of these services to create applications and agents that use the underlying AI functionality, using them as building blocks to create intelligent solutions.\n",
    "\n",
    "This means that software engineers can apply their existing skills in programming, testing, working with source control systems, and packaging applications for deployment, without having to become data scientists or machine learning experts.\n",
    "However, to fully capitalize on the opportunities of AI, software engineers do require at least a conceptual understanding of core AI and machine learning principles.\n",
    "\n",
    "## Model training and inferencing\n",
    "Many AI systems rely on predictive models that must be trained using sample data. The training process analyzes the data and determines relationships between the features in the data (the data values that will generally be present in new observations) and the label (the value that the model is being trained to predict).\n",
    "\n",
    "After the model has been trained, you can submit new data that includes known feature values and have the model predict the most likely label. Using the model to make predictions is referred to as inferencing.\n",
    "\n",
    "Many of the services and frameworks that software engineers can use to build AI-enabled solutions require a development process that involves training a model from existing data before it can be used to inference new values in an application.\n",
    "\n",
    "## Probability and confidence scores\n",
    "A well-trained machine learning model can be accurate, but no predictive model is infallible. The predictions made by machine learning models are based on probability, and while software engineers don't require a deep mathematical understanding of probability theory, it's important to understand that predictions reflect statistical likelihood, not absolute truth. In most cases, predictions have an associated confidence score that reflects the probability on which the prediction is being made. Software developers should make use of confidence score values to evaluate predictions and apply appropriate thresholds to optimize application reliability and mitigate the risk of predictions that may be made based on marginal probabilities.\n",
    "\n",
    "## Responsible AI and ethics\n",
    "It's important for software engineers to consider the impact of their software on users, and society in general; including ethical considerations about its use. When the application is imbued with artificial intelligence, these considerations are particularly important due to the nature of how AI systems work and inform decisions; often based on probabilistic models, which are in turn dependent on the data with which they were trained.\n",
    "\n",
    "The human-like nature of AI solutions is a significant benefit in making applications user-friendly, but it can also lead users to place a great deal of trust in the application's ability to make correct decisions. The potential for harm to individuals or groups through incorrect predictions or misuse of AI capabilities is a major concern, and software engineers building AI-enabled solutions should apply due consideration to mitigate risks and ensure fairness, reliability, and adequate protection from harm or discrimination.\n"
   ]
  },
  {
   "cell_type": "markdown",
   "metadata": {},
   "source": [
    "# Understand considerations for responsible AI\n",
    "## Fairness\n",
    "AI systems should treat all people fairly. For example, suppose you create a machine learning model to support a loan approval application for a bank. The model should make predictions of whether or not the loan should be approved without incorporating any bias based on gender, ethnicity, or other factors that might result in an unfair advantage or disadvantage to specific groups of applicants.\n",
    "\n",
    "Fairness of machine learned systems is a highly active area of ongoing research, and some software solutions exist for evaluating, quantifying, and mitigating unfairness in machine learned models. However, tooling alone isn't sufficient to ensure fairness. Consider fairness from the beginning of the application development process; carefully reviewing training data to ensure it's representative of all potentially affected subjects, and evaluating predictive performance for subsections of your user population throughout the development lifecycle.\n",
    "\n",
    "## Reliability and safety\n",
    "AI systems should perform reliably and safely. For example, consider an AI-based software system for an autonomous vehicle; or a machine learning model that diagnoses patient symptoms and recommends prescriptions. Unreliability in these kinds of system can result in substantial risk to human life.\n",
    "\n",
    "As with any software, AI-based software application development must be subjected to rigorous testing and deployment management processes to ensure that they work as expected before release. Additionally, software engineers need to take into account the probabilistic nature of machine learning models, and apply appropriate thresholds when evaluating confidence scores for predictions.\n",
    "\n",
    "## Privacy and security\n",
    "AI systems should be secure and respect privacy. The machine learning models on which AI systems are based rely on large volumes of data, which may contain personal details that must be kept private. Even after models are trained and the system is in production, they use new data to make predictions or take action that may be subject to privacy or security concerns; so appropriate safeguards to protect data and customer content must be implemented.\n",
    "\n",
    "## Inclusiveness\n",
    "AI systems should empower everyone and engage people. AI should bring benefits to all parts of society, regardless of physical ability, gender, sexual orientation, ethnicity, or other factors.\n",
    "\n",
    "One way to optimize for inclusiveness is to ensure that the design, development, and testing of your application includes input from as diverse a group of people as possible.\n",
    "\n",
    "## Transparency\n",
    "AI systems should be understandable. Users should be made fully aware of the purpose of the system, how it works, and what limitations may be expected.\n",
    "\n",
    "For example, when an AI system is based on a machine learning model, you should generally make users aware of factors that may affect the accuracy of its predictions, such as the number of cases used to train the model, or the specific features that have the most influence over its predictions. You should also share information about the confidence score for predictions.\n",
    "\n",
    "When an AI application relies on personal data, such as a facial recognition system that takes images of people to recognize them; you should make it clear to the user how their data is used and retained, and who has access to it.\n",
    "\n",
    "## Accountability\n",
    "People should be accountable for AI systems. Although many AI systems seem to operate autonomously, ultimately it's the responsibility of the developers who trained and validated the models they use, and defined the logic that bases decisions on model predictions to ensure that the overall system meets responsibility requirements. To help meet this goal, designers and developers of AI-based solution should work within a framework of governance and organizational principles that ensure the solution meets ethical and legal standards that are clearly defined.\n"
   ]
  },
  {
   "cell_type": "markdown",
   "metadata": {},
   "source": [
    "# Understand capabilities of Azure Machine Learning\n",
    "Microsoft Azure provides the Azure Machine Learning service - a cloud-based platform for running experiments at scale to train predictive models from data, and publish the trained models as services.\n",
    "\n",
    "Azure Machine Learning provides the following features and capabilities:\n",
    "\n",
    "| Feature                            | Capability                                                                                                        |\n",
    "|------------------------------------|------------------------------------------------------------------------------------------------------------------|\n",
    "| Automated machine learning         | This feature enables non-experts to quickly create an effective machine learning model from data.                |\n",
    "| Azure Machine Learning designer   | A graphical interface enabling no-code development of machine learning solutions.                                |\n",
    "| Data and compute management       | Cloud-based data storage and compute resources that professional data scientists can use to run data experiment code at scale. |\n",
    "| Pipelines                         | Data scientists, software engineers, and IT operations professionals can define pipelines to orchestrate model training, deployment, and management tasks. |\n",
    "\n",
    "\n",
    "Data scientists can use Azure Machine Learning throughout the entire machine learning lifecycle to:\n",
    "- Ingest and prepare data.\n",
    "- Run experiments to explore data and train predictive models.\n",
    "- Deploy and manage trained models as web services.\n",
    "\n",
    "Software engineers may interact with Azure Machine Learning in the following ways:\n",
    "- Using Automated Machine Learning or Azure Machine Learning designer to train machine learning models and deploy them as services that can be integrated into AI-enabled applications.\n",
    "- Collaborating with data scientists to deploy models based on common frameworks such as Scikit-Learn, PyTorch, and TensorFlow as web services, and consume them in applications.\n",
    "- Using Azure Machine Learning SDKs or command-line interface (CLI) scripts to orchestrate DevOps processes that manage versioning, deployment, and testing of machine learning models as part of an overall application delivery solution."
   ]
  },
  {
   "cell_type": "markdown",
   "metadata": {},
   "source": [
    "# Understand capabilities of Azure AI Services\n",
    "Azure AI Services are cloud-based services that encapsulate AI capabilities. Rather than a single product, you should think of Azure AI Services as a set of individual services that you can use as building blocks to compose sophisticated, intelligent applications.\n",
    "\n",
    "Azure AI services offer a wide range of prebuilt AI capabilities across multiple categories, with examples shown in the following table.\n",
    "\n",
    "| Natural language processing | Knowledge mining and document intelligence | Computer vision | Decision support | Generative AI |\n",
    "|-----------------------------|--------------------------------------------|-----------------|------------------|---------------|\n",
    "| Text analysis               | AI Search                                  | Image analysis  | Content safety   | Azure OpenAI Service |\n",
    "| Question answering          | Document Intelligence                      | Video analysis  | Content moderation| DALL-E image generation |\n",
    "| Language understanding      | Custom Document Intelligence                | Image classification|                 |               |\n",
    "| Translation                 | Custom skills                              | Object detection|                   |               |\n",
    "| Named entity recognition    |                                            | Facial analysis |                   |               |\n",
    "| Custom text classification |                                            | Optical character recognition |          |               |\n",
    "| Speech                      |                                            | Azure AI Video Indexer|               |               |\n",
    "| Speech Translation          |                                            |                 |                   |               |\n"
   ]
  },
  {
   "cell_type": "markdown",
   "metadata": {},
   "source": [
    "# Understand capabilities of the Azure OpenAI Service\n",
    "Generative AI is a relatively new and quickly progressing field of AI focused on AI models that generate content. Content that these models generate can be in the form of text, images, code or more, and in a way that almost feels like interacting with a real person in a real conversation. Generative AI models depend on large language models (LLMs) based on the transformer architecture that evolved from years of machine learning progress. Generative AI models are often queried with natural language prompts, and return an impressively accurate response when prompted correctly.\n",
    "\n",
    "Azure OpenAI Service is an Azure AI service for deploying, utilizing, and fine-tuning models developed by OpenAI. OpenAI, the company who built ChatGPT, is one of the most popular applications most people have seen, and the models behind that ChatGPT uses are available through the Azure OpenAI Service. You can develop applications that use the powerful generative AI models in Azure OpenAI to further utilize this technology.\n",
    "\n",
    "AI engineers can develop applications that use the powerful generative AI models in Azure OpenAI to further utilize this technology. Both REST and language specific SDKs are available when developing applications.\n"
   ]
  },
  {
   "cell_type": "markdown",
   "metadata": {},
   "source": [
    "# Understand capabilities of Azure Cognitive Search\n",
    "Searching for information is a common requirement in many applications, from dedicated search engine web sites to mobile apps that can find context-appropriate information based on where you are and what you want to accomplish.\n",
    "\n",
    "Azure AI Search is an Applied AI Service that enables you to ingest and index data from various sources, and search the index to find, filter, and sort information extracted from the source data.\n",
    "\n",
    "In addition to basic text-based indexing, Azure AI Search enables you to define an enrichment pipeline that uses AI skills to enhance the index with insights derived from the source data - for example, by using computer vision and natural language processing capabilities to generate descriptions of images, extract text from scanned documents, and determine key phrases in large documents that encapsulate their key points.\n",
    "\n",
    "Not only does this AI enrichment produce a more useful search experience, the insights extracted by your enrichment pipeline can be persisted in a knowledge store for further analysis or integration into a data pipeline for a business intelligence solution."
   ]
  }
 ],
 "metadata": {
  "language_info": {
   "name": "python"
  }
 },
 "nbformat": 4,
 "nbformat_minor": 2
}
