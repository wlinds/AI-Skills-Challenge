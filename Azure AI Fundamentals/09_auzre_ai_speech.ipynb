{
 "cells": [
  {
   "cell_type": "markdown",
   "metadata": {},
   "source": [
    "# Introduction\n",
    "\n",
    "AI speech capabilities enable us to manage home and auto systems with voice instructions, get answers from computers for spoken questions, generate captions from audio, and much more.\n",
    "To enable this kind of interaction, the AI system must support two capabilities:\n",
    "- Speech recognition - the ability to detect and interpret spoken input\n",
    "- Speech synthesis - the ability to generate spoken output\n",
    "\n",
    "Azure AI Speech provides speech to text and text to speech capabilities through speech recognition and synthesis. You can use prebuilt and custom Speech service models for a variety of tasks, from transcribing audio to text with high accuracy, to identifying speakers in conversations, creating custom voices, and more. Next you'll learn how AI speech capabilities work."
   ]
  },
  {
   "cell_type": "markdown",
   "metadata": {},
   "source": [
    "## Understand speech recognition and synthesis\n",
    "Speech recognition takes the spoken word and converts it into data that can be processed - often by transcribing it into text. The spoken words can be in the form of a recorded voice in an audio file, or live audio from a microphone. Speech patterns are analyzed in the audio to determine recognizable patterns that are mapped to words. To accomplish this, the software typically uses multiple models, including:\n",
    "\n",
    "- An acoustic model that converts the audio signal into phonemes (representations of specific sounds).\n",
    "- A language model that maps phonemes to words, usually using a statistical algorithm that predicts the most probable sequence of words based on the phonemes.\n",
    "\n",
    "The recognized words are typically converted to text, which you can use for various purposes, such as:\n",
    "\n",
    "- Providing closed captions for recorded or live videos\n",
    "- Creating a transcript of a phone call or meeting\n",
    "- Automated note dictation\n",
    "- Determining intended user input for further processing\n",
    "\n",
    "Speech synthesis is concerned with vocalizing data, usually by converting text to speech. A speech synthesis solution typically requires the following information:\n",
    "\n",
    "- The text to be spoken\n",
    "- The voice to be used to vocalize the speech\n",
    "\n",
    "To synthesize speech, the system typically tokenizes the text to break it down into individual words, and assigns phonetic sounds to each word. It then breaks the phonetic transcription into prosodic units (such as phrases, clauses, or sentences) to create phonemes that will be converted to audio format. These phonemes are then synthesized as audio and can be assigned a particular voice, speaking rate, pitch, and volume.\n",
    "\n",
    "You can use the output of speech synthesis for many purposes, including:\n",
    "\n",
    "- Generating spoken responses to user input\n",
    "- Creating voice menus for telephone systems\n",
    "- Reading email or text messages aloud in hands-free scenarios\n",
    "- Broadcasting announcements in public locations, such as railway stations or airports\n",
    "\n",
    "## Get started with speech on Azure\n",
    "\n",
    "Microsoft Azure offers both speech recognition and speech synthesis capabilities through Azure AI Speech service, which includes the following APIs:\n",
    "\n",
    "- The Speech to text API\n",
    "- The Text to speech API\n"
   ]
  },
  {
   "cell_type": "markdown",
   "metadata": {},
   "source": [
    "## Azure resources for Azure AI Speech\n",
    "\n",
    "To use Azure AI Speech in an application, you must create an appropriate resource in your Azure subscription. You can choose to create either of the following types of resource:\n",
    "\n",
    "- A Speech resource - choose this resource type if you only plan to use Azure AI Speech, or if you want to manage access and billing for the resource separately from other services.\n",
    "- An Azure AI services resource - choose this resource type if you plan to use Azure AI Speech in combination with other Azure AI services, and you want to manage access and billing for these services together.\n",
    "\n",
    "## The Speech to text API\n",
    "\n",
    "You can use Azure AI Speech to text API to perform real-time or batch transcription of audio into a text format. The audio source for transcription can be a real-time audio stream from a microphone or an audio file.\n",
    "\n",
    "The model that is used by the Speech to text API, is based on the Universal Language Model that was trained by Microsoft. The data for the model is Microsoft-owned and deployed to Microsoft Azure. The model is optimized for two scenarios, conversational and dictation. You can also create and train your own custom models including acoustics, language, and pronunciation if the pre-built models from Microsoft do not provide what you need.\n",
    "\n",
    "### Real-time transcription\n",
    "\n",
    "Real-time speech to text allows you to transcribe text in audio streams. You can use real-time transcription for presentations, demos, or any other scenario where a person is speaking.\n",
    "\n",
    "In order for real-time transcription to work, your application will need to be listening for incoming audio from a microphone, or other audio input source such as an audio file. Your application code streams the audio to the service, which returns the transcribed text.\n",
    "\n",
    "### Batch transcription\n",
    "Not all speech to text scenarios are real time. You might have audio recordings stored on a file share, a remote server, or even on Azure storage. You can point to audio files with a shared access signature (SAS) URI and asynchronously receive transcription results.\n",
    "\n",
    "Batch transcription should be run in an asynchronous manner because the batch jobs are scheduled on a best-effort basis. Normally a job will start executing within minutes of the request but there is no estimate for when a job changes into the running state.\n"
   ]
  },
  {
   "cell_type": "markdown",
   "metadata": {},
   "source": [
    "## The text to speech API\n",
    "The text to speech API enables you to convert text input to audible speech, which can either be played directly through a computer speaker or written to an audio file.\n",
    "\n",
    "### Speech synthesis voices\n",
    "\n",
    "When you use the text to speech API, you can specify the voice to be used to vocalize the text. This capability offers you the flexibility to personalize your speech synthesis solution and give it a specific character.\n",
    "\n",
    "The service includes multiple pre-defined voices with support for multiple languages and regional pronunciation, including neural voices that leverage neural networks to overcome common limitations in speech synthesis with regard to intonation, resulting in a more natural sounding voice. You can also develop custom voices and use them with the text to speech API\n",
    "\n",
    "### Supported Languages\n",
    "Both the speech to text and text to speech APIs support a variety of languages. Use the links below to find details about the supported languages:\n",
    "\n",
    "- [Speech to text languages](https://learn.microsoft.com/en-us/azure/ai-services/speech-service/language-support?tabs=stt#speech-to-text?azure-portal=true)\n",
    "- [Text to speech languages](https://learn.microsoft.com/en-us/azure/ai-services/speech-service/language-support?tabs=tts#text-to-speech?azure-portal=true)\n",
    "\n",
    "\n",
    "You can find out more about Azure AI Speech in the service [documentation](https://learn.microsoft.com/en-us/azure/ai-services/speech-service)."
   ]
  }
 ],
 "metadata": {
  "language_info": {
   "name": "python"
  }
 },
 "nbformat": 4,
 "nbformat_minor": 2
}
